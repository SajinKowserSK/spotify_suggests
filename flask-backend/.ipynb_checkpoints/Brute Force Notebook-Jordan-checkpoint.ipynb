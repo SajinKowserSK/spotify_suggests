{
 "cells": [
  {
   "cell_type": "code",
   "execution_count": null,
   "metadata": {},
   "outputs": [],
   "source": [
    "from auth_class import *\n",
    "from query import *\n",
    "import requests\n",
    "from urllib.parse import urlencode\n",
    "import random\n",
    "import pandas as pd\n",
    "import sys\n",
    "db_df = pd.read_csv(\"1. Songs Analyzed.csv\")\n",
    "db_df = pd.DataFrame(db_df)\n",
    "randomSongs = []\n",
    "\n",
    "db_df"
   ]
  },
  {
   "cell_type": "code",
   "execution_count": null,
   "metadata": {},
   "outputs": [],
   "source": []
  },
  {
   "cell_type": "code",
   "execution_count": null,
   "metadata": {},
   "outputs": [],
   "source": [
    "for x in range(0, 3):\n",
    "    i = random.randint(0, 430)\n",
    "\n",
    "    while i in randomSongs:\n",
    "        i = random.randint(0, 430)\n",
    "\n",
    "    randomSongs.append(i)\n",
    "\n",
    "randomSongID = []\n",
    "for x in range (0, len(randomSongs)):\n",
    "    randomSongID.append(db_df.iloc[randomSongs[x]]['id'])\n",
    "\n",
    "randomSongID"
   ]
  },
  {
   "cell_type": "code",
   "execution_count": null,
   "metadata": {},
   "outputs": [],
   "source": [
    "db_df = db_df.drop([db_df.index[randomSongs[0]], db_df.index[randomSongs[1]], db_df.index[randomSongs[2]]])\n",
    "db_df = db_df.reset_index(drop=True)"
   ]
  },
  {
   "cell_type": "code",
   "execution_count": null,
   "metadata": {},
   "outputs": [],
   "source": [
    "db_df"
   ]
  },
  {
   "cell_type": "code",
   "execution_count": null,
   "metadata": {},
   "outputs": [],
   "source": [
    "def getTrack(id):\n",
    "    track = requests.get(\"https://api.spotify.com/v1/tracks/\" + str(id), headers=spotify.get_resource_header()).json()\n",
    "    artist = track['artists'][0]['name']\n",
    "    songName = track['name']\n",
    "    print(\"Now playing\", songName, \"by\", artist)\n",
    "    \n",
    "\n",
    "ratings = []\n",
    "for x in range (0, len(randomSongID)):\n",
    "    getTrack(randomSongID[x])\n",
    "    response = int(input(\"Please rate this song out of 5\"))\n",
    "    ratings.append(response)\n",
    "    \n"
   ]
  },
  {
   "cell_type": "code",
   "execution_count": null,
   "metadata": {},
   "outputs": [],
   "source": [
    "ratings"
   ]
  },
  {
   "cell_type": "code",
   "execution_count": null,
   "metadata": {},
   "outputs": [],
   "source": [
    "randomSongID"
   ]
  },
  {
   "cell_type": "code",
   "execution_count": null,
   "metadata": {},
   "outputs": [],
   "source": [
    "endpoint = 'https://api.spotify.com/v1/audio-features/'\n",
    "track_id = randomSongID\n",
    "i = 0\n",
    "songNum = 0\n",
    "colNames = []\n",
    "stars = ratings"
   ]
  },
  {
   "cell_type": "code",
   "execution_count": null,
   "metadata": {},
   "outputs": [],
   "source": [
    "for song in track_id:\n",
    "    r = requests.get(endpoint + song, headers=auth_header)\n",
    "\n",
    "    names = []\n",
    "    rate = stars[songNum]\n",
    "    data = []\n",
    "\n",
    "    for keys in r.json():\n",
    "        if keys == \"type\":\n",
    "            break\n",
    "\n",
    "        elif keys == \"type\" or keys == \"duration_ms\" or keys == \"tempo\":\n",
    "            continue\n",
    "\n",
    "        if keys == \"key\":\n",
    "            names.append(keys)\n",
    "            val = abs(float(r.json()[keys])) / 12\n",
    "            data.append(val)\n",
    "\n",
    "\n",
    "        elif keys == \"loudness\":\n",
    "            names.append(keys)\n",
    "            val = abs(float(r.json()[keys])) / 60\n",
    "            data.append(val)\n",
    "\n",
    "        else:\n",
    "            names.append(keys)\n",
    "            data.append(float(r.json()[keys]))\n",
    "\n",
    "    if i == 0:\n",
    "        #creating the data frame for the first time\n",
    "\n",
    "        track1 = pd.DataFrame([[data[0], data[1], data[2], data[3], data[4],\n",
    "                            data[5], data[6], data[7], data[8], data[9]]], columns=names)\n",
    "\n",
    "        df = pd.DataFrame([[data[0] * rate, data[1] * rate, data[2] * rate, data[3] * rate, data[4] * rate,\n",
    "                            data[5] * rate, data[6] * rate, data[7] * rate, data[8] * rate, data[9] * rate]], columns=names)\n",
    "        i = i +1\n",
    "        colNames = names\n",
    "    else:\n",
    "\n",
    "        track2 = pd.DataFrame([[data[0], data[1], data[2], data[3], data[4],\n",
    "                                data[5], data[6], data[7], data[8], data[9]]], columns=names)\n",
    "\n",
    "        df2 = pd.DataFrame([[data[0] * rate, data[1] * rate, data[2] * rate, data[3] * rate, data[4] * rate,\n",
    "                            data[5] * rate, data[6] * rate, data[7] * rate, data[8] * rate, data[9] * rate]], columns=names)\n",
    "\n",
    "        df = df.append(df2, ignore_index=True)\n",
    "\n",
    "    songNum += 1"
   ]
  },
  {
   "cell_type": "code",
   "execution_count": null,
   "metadata": {},
   "outputs": [],
   "source": [
    "df"
   ]
  },
  {
   "cell_type": "code",
   "execution_count": null,
   "metadata": {},
   "outputs": [],
   "source": [
    "user_profile = df.sum(axis=0)\n",
    "user_profile = pd.DataFrame(user_profile, columns=['Value Totals'])\n",
    "user_profile['Weighted_Values'] = 0\n",
    "user_profile"
   ]
  },
  {
   "cell_type": "code",
   "execution_count": null,
   "metadata": {},
   "outputs": [],
   "source": [
    "user_profile_totals = user_profile['Value Totals'].sum()\n",
    "\n",
    "rowNum = 0\n",
    "NEW_COL = 1\n",
    "OLD_COL = 0\n",
    "\n",
    "# creating a new column with the weighted values for each feature based on user profile\n",
    "for index, row in user_profile.iterrows():\n",
    "    user_profile.iloc[rowNum, NEW_COL] = user_profile.iloc[rowNum, OLD_COL] / user_profile_totals\n",
    "    rowNum += 1\n",
    "\n",
    "user_profile"
   ]
  },
  {
   "cell_type": "code",
   "execution_count": null,
   "metadata": {},
   "outputs": [],
   "source": [
    "preferred_vals = user_profile['Weighted_Values'].to_list()\n",
    "preferred_vals"
   ]
  },
  {
   "cell_type": "code",
   "execution_count": null,
   "metadata": {},
   "outputs": [],
   "source": [
    "db_df.iloc[0].to_list()\n"
   ]
  },
  {
   "cell_type": "code",
   "execution_count": null,
   "metadata": {},
   "outputs": [],
   "source": [
    "def analyze(preferred_vals, db):\n",
    "    \n",
    "    bestSong = {}\n",
    "    bestSong['id'] = \"None\"\n",
    "    bestSong['chance'] = 0\n",
    "    \n",
    "    counter = 0\n",
    "    for index, row in db.iterrows():\n",
    "        currSong_vals = db_df.iloc[counter].to_list()\n",
    "        song_id = currSong_vals.pop(0)\n",
    "        \n",
    "        prediction_vals = []\n",
    "        for x in range(0, len(preferred_vals)):\n",
    "            prediction_vals.append(preferred_vals[x] * currSong_vals[x])\n",
    "            \n",
    "        curr_chance = sum(prediction_vals)\n",
    "        if curr_chance > bestSong['chance']:\n",
    "            bestSong['id'] = song_id\n",
    "            bestSong['chance'] = curr_chance\n",
    "            \n",
    "        \n",
    "        counter += 1\n",
    "        \n",
    "    \n",
    "    return bestSong\n",
    "        "
   ]
  },
  {
   "cell_type": "code",
   "execution_count": null,
   "metadata": {},
   "outputs": [],
   "source": [
    "result = analyze(preferred_vals, db_df)\n",
    "result"
   ]
  },
  {
   "cell_type": "code",
   "execution_count": null,
   "metadata": {},
   "outputs": [],
   "source": [
    "getTrack(result['id'])"
   ]
  },
  {
   "cell_type": "code",
   "execution_count": null,
   "metadata": {},
   "outputs": [],
   "source": []
  }
 ],
 "metadata": {
  "kernelspec": {
   "display_name": "Python 3",
   "language": "python",
   "name": "python3"
  },
  "language_info": {
   "codemirror_mode": {
    "name": "ipython",
    "version": 3
   },
   "file_extension": ".py",
   "mimetype": "text/x-python",
   "name": "python",
   "nbconvert_exporter": "python",
   "pygments_lexer": "ipython3",
   "version": "3.8.2"
  }
 },
 "nbformat": 4,
 "nbformat_minor": 4
}
